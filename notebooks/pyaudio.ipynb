{
 "metadata": {
  "name": ""
 },
 "nbformat": 3,
 "nbformat_minor": 0,
 "worksheets": [
  {
   "cells": [
    {
     "cell_type": "code",
     "collapsed": false,
     "input": [
      "import pyaudio"
     ],
     "language": "python",
     "metadata": {},
     "outputs": [],
     "prompt_number": 2
    },
    {
     "cell_type": "code",
     "collapsed": false,
     "input": [
      "\"\"\"PyAudio Example: Play a WAVE file.\"\"\"\n",
      "\n",
      "import pyaudio\n",
      "import wave\n",
      "import sys\n",
      "import time\n",
      "\n",
      "CHUNK = 1024\n",
      "\n",
      "fname = \"/home/bird/Desktop/test48k.wav\"\n",
      "\n",
      "wf = wave.open(fname, 'rb')\n",
      "\n",
      "device_index = 31\n",
      "\n",
      "p = pyaudio.PyAudio()\n",
      "\n",
      "def callback(in_data, frame_count, time_info, status):\n",
      "    data = wf.readframes(frame_count)\n",
      "    return (data, pyaudio.paContinue)\n",
      "\n",
      "stream = p.open(format=p.get_format_from_width(wf.getsampwidth()),\n",
      "                channels=wf.getnchannels(),\n",
      "                rate=wf.getframerate(),\n",
      "                output=True,\n",
      "                output_device_index=device_index,\n",
      "                stream_callback=callback)\n",
      "\n",
      "stream.start_stream()\n",
      "\n",
      "while stream.is_active():\n",
      "    time.sleep(0.1)\n",
      "    \n",
      "stream.stop_stream()\n",
      "stream.close()\n"
     ],
     "language": "python",
     "metadata": {},
     "outputs": [
      {
       "ename": "IOError",
       "evalue": "[Errno Device unavailable] -9985",
       "output_type": "pyerr",
       "traceback": [
        "\u001b[1;31m---------------------------------------------------------------------------\u001b[0m\n\u001b[1;31mIOError\u001b[0m                                   Traceback (most recent call last)",
        "\u001b[1;32m<ipython-input-7-27c37e7f7ded>\u001b[0m in \u001b[0;36m<module>\u001b[1;34m()\u001b[0m\n\u001b[0;32m     25\u001b[0m                 \u001b[0moutput\u001b[0m\u001b[1;33m=\u001b[0m\u001b[0mTrue\u001b[0m\u001b[1;33m,\u001b[0m\u001b[1;33m\u001b[0m\u001b[0m\n\u001b[0;32m     26\u001b[0m                 \u001b[0moutput_device_index\u001b[0m\u001b[1;33m=\u001b[0m\u001b[0mdevice_index\u001b[0m\u001b[1;33m,\u001b[0m\u001b[1;33m\u001b[0m\u001b[0m\n\u001b[1;32m---> 27\u001b[1;33m                 stream_callback=callback)\n\u001b[0m\u001b[0;32m     28\u001b[0m \u001b[1;33m\u001b[0m\u001b[0m\n\u001b[0;32m     29\u001b[0m \u001b[0mstream\u001b[0m\u001b[1;33m.\u001b[0m\u001b[0mstart_stream\u001b[0m\u001b[1;33m(\u001b[0m\u001b[1;33m)\u001b[0m\u001b[1;33m\u001b[0m\u001b[0m\n",
        "\u001b[1;32m/usr/local/anaconda/lib/python2.7/site-packages/pyaudio.pyc\u001b[0m in \u001b[0;36mopen\u001b[1;34m(self, *args, **kwargs)\u001b[0m\n\u001b[0;32m    745\u001b[0m         \"\"\"\n\u001b[0;32m    746\u001b[0m \u001b[1;33m\u001b[0m\u001b[0m\n\u001b[1;32m--> 747\u001b[1;33m         \u001b[0mstream\u001b[0m \u001b[1;33m=\u001b[0m \u001b[0mStream\u001b[0m\u001b[1;33m(\u001b[0m\u001b[0mself\u001b[0m\u001b[1;33m,\u001b[0m \u001b[1;33m*\u001b[0m\u001b[0margs\u001b[0m\u001b[1;33m,\u001b[0m \u001b[1;33m**\u001b[0m\u001b[0mkwargs\u001b[0m\u001b[1;33m)\u001b[0m\u001b[1;33m\u001b[0m\u001b[0m\n\u001b[0m\u001b[0;32m    748\u001b[0m         \u001b[0mself\u001b[0m\u001b[1;33m.\u001b[0m\u001b[0m_streams\u001b[0m\u001b[1;33m.\u001b[0m\u001b[0madd\u001b[0m\u001b[1;33m(\u001b[0m\u001b[0mstream\u001b[0m\u001b[1;33m)\u001b[0m\u001b[1;33m\u001b[0m\u001b[0m\n\u001b[0;32m    749\u001b[0m         \u001b[1;32mreturn\u001b[0m \u001b[0mstream\u001b[0m\u001b[1;33m\u001b[0m\u001b[0m\n",
        "\u001b[1;32m/usr/local/anaconda/lib/python2.7/site-packages/pyaudio.pyc\u001b[0m in \u001b[0;36m__init__\u001b[1;34m(self, PA_manager, rate, channels, format, input, output, input_device_index, output_device_index, frames_per_buffer, start, input_host_api_specific_stream_info, output_host_api_specific_stream_info, stream_callback)\u001b[0m\n\u001b[0;32m    440\u001b[0m \u001b[1;33m\u001b[0m\u001b[0m\n\u001b[0;32m    441\u001b[0m         \u001b[1;31m# calling pa.open returns a stream object\u001b[0m\u001b[1;33m\u001b[0m\u001b[1;33m\u001b[0m\u001b[0m\n\u001b[1;32m--> 442\u001b[1;33m         \u001b[0mself\u001b[0m\u001b[1;33m.\u001b[0m\u001b[0m_stream\u001b[0m \u001b[1;33m=\u001b[0m \u001b[0mpa\u001b[0m\u001b[1;33m.\u001b[0m\u001b[0mopen\u001b[0m\u001b[1;33m(\u001b[0m\u001b[1;33m**\u001b[0m\u001b[0marguments\u001b[0m\u001b[1;33m)\u001b[0m\u001b[1;33m\u001b[0m\u001b[0m\n\u001b[0m\u001b[0;32m    443\u001b[0m \u001b[1;33m\u001b[0m\u001b[0m\n\u001b[0;32m    444\u001b[0m         \u001b[0mself\u001b[0m\u001b[1;33m.\u001b[0m\u001b[0m_input_latency\u001b[0m \u001b[1;33m=\u001b[0m \u001b[0mself\u001b[0m\u001b[1;33m.\u001b[0m\u001b[0m_stream\u001b[0m\u001b[1;33m.\u001b[0m\u001b[0minputLatency\u001b[0m\u001b[1;33m\u001b[0m\u001b[0m\n",
        "\u001b[1;31mIOError\u001b[0m: [Errno Device unavailable] -9985"
       ]
      }
     ],
     "prompt_number": 7
    },
    {
     "cell_type": "code",
     "collapsed": false,
     "input": [
      "stream.close()\n",
      "\n",
      "p.terminate()"
     ],
     "language": "python",
     "metadata": {},
     "outputs": [],
     "prompt_number": 27
    },
    {
     "cell_type": "code",
     "collapsed": false,
     "input": [
      "\n",
      "p = None\n",
      "stream = p.open(format=p.get_format_from_width(wf.getsampwidth()),\n",
      "                channels=wf.getnchannels(),\n",
      "                rate=wf.getframerate(),\n",
      "                output=True,\n",
      "                output_device_index=device_index,\n",
      "                stream_callback=callback)"
     ],
     "language": "python",
     "metadata": {},
     "outputs": [
      {
       "ename": "AttributeError",
       "evalue": "'NoneType' object has no attribute 'open'",
       "output_type": "pyerr",
       "traceback": [
        "\u001b[1;31m---------------------------------------------------------------------------\u001b[0m\n\u001b[1;31mAttributeError\u001b[0m                            Traceback (most recent call last)",
        "\u001b[1;32m<ipython-input-24-c81699cb4105>\u001b[0m in \u001b[0;36m<module>\u001b[1;34m()\u001b[0m\n\u001b[0;32m      1\u001b[0m \u001b[1;33m\u001b[0m\u001b[0m\n\u001b[0;32m      2\u001b[0m \u001b[0mp\u001b[0m \u001b[1;33m=\u001b[0m \u001b[0mNone\u001b[0m\u001b[1;33m\u001b[0m\u001b[0m\n\u001b[1;32m----> 3\u001b[1;33m stream = p.open(format=p.get_format_from_width(wf.getsampwidth()),\n\u001b[0m\u001b[0;32m      4\u001b[0m                 \u001b[0mchannels\u001b[0m\u001b[1;33m=\u001b[0m\u001b[0mwf\u001b[0m\u001b[1;33m.\u001b[0m\u001b[0mgetnchannels\u001b[0m\u001b[1;33m(\u001b[0m\u001b[1;33m)\u001b[0m\u001b[1;33m,\u001b[0m\u001b[1;33m\u001b[0m\u001b[0m\n\u001b[0;32m      5\u001b[0m                 \u001b[0mrate\u001b[0m\u001b[1;33m=\u001b[0m\u001b[0mwf\u001b[0m\u001b[1;33m.\u001b[0m\u001b[0mgetframerate\u001b[0m\u001b[1;33m(\u001b[0m\u001b[1;33m)\u001b[0m\u001b[1;33m,\u001b[0m\u001b[1;33m\u001b[0m\u001b[0m\n",
        "\u001b[1;31mAttributeError\u001b[0m: 'NoneType' object has no attribute 'open'"
       ]
      }
     ],
     "prompt_number": 24
    },
    {
     "cell_type": "code",
     "collapsed": false,
     "input": [
      "p = pyaudio.PyAudio()\n",
      "for index in range(p.get_device_count()):\n",
      "    print index, p.get_device_info_by_index(index)['name']\n",
      "p.terminate()"
     ],
     "language": "python",
     "metadata": {},
     "outputs": [
      {
       "output_type": "stream",
       "stream": "stdout",
       "text": [
        "0 default\n",
        "1 Adapter 1 (5316) - Input Stream 1\n",
        "2 Adapter 1 (5316) - Input Stream 2\n",
        "3 Adapter 1 (5316) - Input Stream 3\n",
        "4 Adapter 1 (5316) - Input Stream 4\n",
        "5 Adapter 1 (5316) - Input Stream 5\n",
        "6 Adapter 1 (5316) - Input Stream 6\n",
        "7 Adapter 1 (5316) - Input Stream 7\n",
        "8 Adapter 1 (5316) - Input Stream 8\n",
        "9 Adapter 1 (5316) - Input Stream 9\n",
        "10 Adapter 1 (5316) - Input Stream 10\n",
        "11 Adapter 1 (5316) - Input Stream 11\n",
        "12 Adapter 1 (5316) - Input Stream 12\n",
        "13 Adapter 1 (5316) - Input Stream 13\n",
        "14 Adapter 1 (5316) - Input Stream 14\n",
        "15 Adapter 1 (5316) - Input Stream 15\n",
        "16 Adapter 1 (5316) - Input Stream 16\n",
        "17 Adapter 1 (5316) - Output Stream 1\n",
        "18 Adapter 1 (5316) - Output Stream 2\n",
        "19 Adapter 1 (5316) - Output Stream 3\n",
        "20 Adapter 1 (5316) - Output Stream 4\n",
        "21 Adapter 1 (5316) - Output Stream 5\n",
        "22 Adapter 1 (5316) - Output Stream 6\n",
        "23 Adapter 1 (5316) - Output Stream 7\n",
        "24 Adapter 1 (5316) - Output Stream 8\n",
        "25 Adapter 1 (5316) - Output Stream 9\n",
        "26 Adapter 1 (5316) - Output Stream 10\n",
        "27 Adapter 1 (5316) - Output Stream 11\n",
        "28 Adapter 1 (5316) - Output Stream 12\n",
        "29 Adapter 1 (5316) - Output Stream 13\n",
        "30 Adapter 1 (5316) - Output Stream 14\n",
        "31 Adapter 1 (5316) - Output Stream 15\n",
        "32 Adapter 1 (5316) - Output Stream 16\n"
       ]
      }
     ],
     "prompt_number": 3
    },
    {
     "cell_type": "code",
     "collapsed": false,
     "input": [
      "p = pyaudio.PyAudio()"
     ],
     "language": "python",
     "metadata": {},
     "outputs": [],
     "prompt_number": 4
    },
    {
     "cell_type": "code",
     "collapsed": false,
     "input": [
      "p.get_d"
     ],
     "language": "python",
     "metadata": {},
     "outputs": []
    }
   ],
   "metadata": {}
  }
 ]
}