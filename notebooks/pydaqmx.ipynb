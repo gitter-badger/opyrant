{
 "metadata": {
  "name": ""
 },
 "nbformat": 3,
 "nbformat_minor": 0,
 "worksheets": [
  {
   "cells": [
    {
     "cell_type": "code",
     "collapsed": false,
     "input": [
      "from PyDAQmx import *\n",
      "import numpy"
     ],
     "language": "python",
     "metadata": {},
     "outputs": [],
     "prompt_number": 1
    },
    {
     "cell_type": "code",
     "collapsed": false,
     "input": [
      "# Declaration of variable passed by reference\n",
      "taskHandle = TaskHandle()\n",
      "data = numpy.zeros((1000,), dtype=numpy.float64)\n",
      "\n",
      "dev, port, line = 1,0,4\n",
      "\n",
      "grabChan = \"Dev%s/port%s/line%s\" % (dev,port,line)\n",
      "risingEdgeChan = grabChan\n",
      "fallingEdgeChan = grabChan\n",
      "samplesPerRead = 1\n",
      "numLines = c_int(1)\n",
      "\n",
      "try:\n",
      "    # DAQmx Configure Code\n",
      "    DAQmxCreateTask(\"\",byref(taskHandle))\n",
      "    DAQmxCreateDIChan(taskHandle,grabChan,\"\",DAQmx_Val_ChanPerLine)\n",
      "    DAQmxCfgChangeDetectionTiming(taskHandle,risingEdgeChan,fallingEdgeChan,DAQmx_Val_FiniteSamps,samplesPerRead);\n",
      "    DAQmxGetTaskAttribute(taskHandle,DAQmx_Task_NumChans,byref(numLines));\n",
      "    \n",
      "\n",
      "    # DAQmx Start Code\n",
      "    DAQmxStartTask(taskHandle)\n",
      "\n",
      "    # DAQmx Read Code\n",
      "    DAQmxReadDigitalLines(taskHandle,samplesPerRead,10.0,DAQmx_Val_GroupByScanNumber,data,samplesPerRead*numLines,byref(numRead),byref(bytesPerSamp),NULL);\n",
      "\n",
      "    print \"Acquired %d points\"%read.value\n",
      "except DAQError as err:\n",
      "    print \"DAQmx Error: %s\"%err\n",
      "finally:\n",
      "    if taskHandle:\n",
      "        # DAQmx Stop Code\n",
      "        DAQmxStopTask(taskHandle)\n",
      "        DAQmxClearTask(taskHandle)"
     ],
     "language": "python",
     "metadata": {},
     "outputs": [
      {
       "output_type": "stream",
       "stream": "stdout",
       "text": [
        "DAQmx Error: Device not available in NI-DAQmx. It is possible that the device is being used by Traditional NI-DAQ or that the device is being reset.\n",
        "\n",
        "After using a device in Traditional NI-DAQ, you must reset the device before using it in NI-DAQmx. For SCXI devices, you must reset the communicator DAQ device. Call the Traditional NI-DAQ Device Reset VI or the Init_DA_Brds function. To reset all devices in Traditional NI-DAQ, right-click the Traditional NI-DAQ Devices folder in MAX and select Reset Driver for Traditional NI-DAQ. If you are resetting the device, wait for the reset to complete.\n",
        "Task Name: _unnamedTask<B>\n",
        "\n",
        "Status Code: -200324\n",
        " in function DAQmxStartTask\n"
       ]
      }
     ],
     "prompt_number": 29
    },
    {
     "cell_type": "code",
     "collapsed": false,
     "input": [
      "DAQmx_Sys_DevNames"
     ],
     "language": "python",
     "metadata": {},
     "outputs": [
      {
       "metadata": {},
       "output_type": "pyout",
       "prompt_number": 38,
       "text": [
        "6459"
       ]
      }
     ],
     "prompt_number": 38
    },
    {
     "cell_type": "code",
     "collapsed": false,
     "input": [
      "devicenames = ctypes.create_string_buffer(256)\n",
      "DAQmxGetSystemInfoAttribute(DAQmx_Sys_DevNames,byref(devicenames))"
     ],
     "language": "python",
     "metadata": {},
     "outputs": [
      {
       "metadata": {},
       "output_type": "pyout",
       "prompt_number": 30,
       "text": [
        "0"
       ]
      }
     ],
     "prompt_number": 30
    },
    {
     "cell_type": "code",
     "collapsed": false,
     "input": [
      "devicenames.raw"
     ],
     "language": "python",
     "metadata": {},
     "outputs": [
      {
       "metadata": {},
       "output_type": "pyout",
       "prompt_number": 39,
       "text": [
        "'\\x00\\x00\\x00\\x00\\x00\\x00\\x00\\x00\\x00\\x00\\x00\\x00\\x00\\x00\\x00\\x00\\x00\\x00\\x00\\x00\\x00\\x00\\x00\\x00\\x00\\x00\\x00\\x00\\x00\\x00\\x00\\x00\\x00\\x00\\x00\\x00\\x00\\x00\\x00\\x00\\x00\\x00\\x00\\x00\\x00\\x00\\x00\\x00\\x00\\x00\\x00\\x00\\x00\\x00\\x00\\x00\\x00\\x00\\x00\\x00\\x00\\x00\\x00\\x00\\x00\\x00\\x00\\x00\\x00\\x00\\x00\\x00\\x00\\x00\\x00\\x00\\x00\\x00\\x00\\x00\\x00\\x00\\x00\\x00\\x00\\x00\\x00\\x00\\x00\\x00\\x00\\x00\\x00\\x00\\x00\\x00\\x00\\x00\\x00\\x00\\x00\\x00\\x00\\x00\\x00\\x00\\x00\\x00\\x00\\x00\\x00\\x00\\x00\\x00\\x00\\x00\\x00\\x00\\x00\\x00\\x00\\x00\\x00\\x00\\x00\\x00\\x00\\x00\\x00\\x00\\x00\\x00\\x00\\x00\\x00\\x00\\x00\\x00\\x00\\x00\\x00\\x00\\x00\\x00\\x00\\x00\\x00\\x00\\x00\\x00\\x00\\x00\\x00\\x00\\x00\\x00\\x00\\x00\\x00\\x00\\x00\\x00\\x00\\x00\\x00\\x00\\x00\\x00\\x00\\x00\\x00\\x00\\x00\\x00\\x00\\x00\\x00\\x00\\x00\\x00\\x00\\x00\\x00\\x00\\x00\\x00\\x00\\x00\\x00\\x00\\x00\\x00\\x00\\x00\\x00\\x00\\x00\\x00\\x00\\x00\\x00\\x00\\x00\\x00\\x00\\x00\\x00\\x00\\x00\\x00\\x00\\x00\\x00\\x00\\x00\\x00\\x00\\x00\\x00\\x00\\x00\\x00\\x00\\x00\\x00\\x00\\x00\\x00\\x00\\x00\\x00\\x00\\x00\\x00\\x00\\x00\\x00\\x00\\x00\\x00\\x00\\x00\\x00\\x00\\x00\\x00\\x00\\x00\\x00\\x00\\x00\\x00\\x00\\x00\\x00\\x00'"
       ]
      }
     ],
     "prompt_number": 39
    },
    {
     "cell_type": "code",
     "collapsed": false,
     "input": [
      "p = ctypes.create_unicode_buffer(256)"
     ],
     "language": "python",
     "metadata": {},
     "outputs": [],
     "prompt_number": 5
    },
    {
     "cell_type": "code",
     "collapsed": false,
     "input": [
      "p.value"
     ],
     "language": "python",
     "metadata": {},
     "outputs": [
      {
       "metadata": {},
       "output_type": "pyout",
       "prompt_number": 6,
       "text": [
        "u''"
       ]
      }
     ],
     "prompt_number": 6
    }
   ],
   "metadata": {}
  }
 ]
}